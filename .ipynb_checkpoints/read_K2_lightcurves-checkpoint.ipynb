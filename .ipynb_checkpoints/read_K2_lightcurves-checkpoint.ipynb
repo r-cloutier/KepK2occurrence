{
 "cells": [
  {
   "cell_type": "code",
   "execution_count": 1,
   "metadata": {},
   "outputs": [
    {
     "name": "stderr",
     "output_type": "stream",
     "text": [
      "\n",
      "Bad key \"xtick.labeltop\" on line 358 in\n",
      "/Users/ryancloutier/.matplotlib/matplotlibrc.\n",
      "You probably need to get an updated matplotlibrc file from\n",
      "http://github.com/matplotlib/matplotlib/blob/master/matplotlibrc.template\n",
      "or from the matplotlib source distribution\n"
     ]
    }
   ],
   "source": [
    "from imports import *\n",
    "%matplotlib inline"
   ]
  },
  {
   "cell_type": "code",
   "execution_count": 3,
   "metadata": {},
   "outputs": [],
   "source": [
    "# read in list of EPIC numbers for K2 stars of interest\n",
    "epicnums = np.array([np.nan])"
   ]
  },
  {
   "cell_type": "markdown",
   "metadata": {},
   "source": [
    "## retrieve SFF light curves\n",
    "\n",
    "(https://archive.stsci.edu/prepds/k2sff/)"
   ]
  },
  {
   "cell_type": "code",
   "execution_count": null,
   "metadata": {},
   "outputs": [],
   "source": [
    "folder = 'K2targets/SFF'\n",
    "try:\n",
    "    os.mkdir(folder)\n",
    "except OSError:\n",
    "    pass\n",
    "    \n",
    "url = 'https://archive.stsci.edu/hlsps/k2sff/'\n",
    "campaigns=[0,1,2,3,4,5,6,7,8,91,92,102,111,112,12,13,14,15,16,17][::-1]\n",
    "for i in range(epicnums.size):\n",
    "    epicnum = epicnums[i]\n",
    "    \n",
    "    for j in range(len(campaigns)):\n",
    "        url += 'c%.2d/%.4d00000/%.5d'%(campaigns[j], int(str(epicnum)[:4]), int(str(epicnum)[4:9]))\n",
    "        fname = 'hlsp_k2sff_k2_lightcurve_%.9d-c%.2d_kepler_v1_llc.fits'%(int(epicnum), campaigns[j])\n",
    "        if not os.path.exists('%s/%s'%(folder, fname)):\n",
    "            url += fname\n",
    "            os.system('wget %s'%url)\n",
    "            if os.path.exists(fname):\n",
    "                os.system('mv %s %s'%(fname, folder))\n",
    "                break"
   ]
  }
 ],
 "metadata": {
  "kernelspec": {
   "display_name": "Python [default]",
   "language": "python",
   "name": "python2"
  },
  "language_info": {
   "codemirror_mode": {
    "name": "ipython",
    "version": 2
   },
   "file_extension": ".py",
   "mimetype": "text/x-python",
   "name": "python",
   "nbconvert_exporter": "python",
   "pygments_lexer": "ipython2",
   "version": "2.7.13"
  }
 },
 "nbformat": 4,
 "nbformat_minor": 2
}
